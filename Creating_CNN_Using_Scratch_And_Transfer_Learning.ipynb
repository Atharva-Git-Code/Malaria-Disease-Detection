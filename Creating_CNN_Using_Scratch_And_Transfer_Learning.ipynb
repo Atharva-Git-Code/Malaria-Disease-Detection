{
  "nbformat": 4,
  "nbformat_minor": 0,
  "metadata": {
    "colab": {
      "provenance": []
    },
    "kernelspec": {
      "name": "python3",
      "display_name": "Python 3"
    },
    "language_info": {
      "name": "python"
    }
  },
  "cells": [
    {
      "cell_type": "code",
      "execution_count": 1,
      "metadata": {
        "id": "L0fcLd_bha5m"
      },
      "outputs": [],
      "source": [
        "# import the libraries as shown below\n",
        "\n",
        "from tensorflow.keras.layers import Input, Lambda, Dense, Flatten,Conv2D\n",
        "from tensorflow.keras.models import Model\n",
        "from tensorflow.keras.applications.vgg19 import VGG19\n",
        "from tensorflow.keras.applications.resnet50 import preprocess_input\n",
        "from tensorflow.keras.preprocessing import image\n",
        "from tensorflow.keras.preprocessing.image import ImageDataGenerator,load_img\n",
        "from tensorflow.keras.models import Sequential\n",
        "import numpy as np\n",
        "from glob import glob\n",
        "import matplotlib.pyplot as plt"
      ]
    },
    {
      "cell_type": "code",
      "source": [
        "# re-size all the images to this\n",
        "IMAGE_SIZE = [224, 224]\n",
        "\n",
        "train_path = '/content/drive/MyDrive/Colab Notebooks/Dataset/Train'\n",
        "valid_path = '/content/drive/MyDrive/Colab Notebooks/Dataset/Test'"
      ],
      "metadata": {
        "id": "RHzj8hYdh1zf"
      },
      "execution_count": 2,
      "outputs": []
    },
    {
      "cell_type": "code",
      "source": [
        "# Import the Vgg 16 library as shown below and add preprocessing layer to the front of VGG\n",
        "# Here we will be using imagenet weights\n",
        "\n",
        "mobilnet = VGG19(input_shape=IMAGE_SIZE + [3], weights='imagenet', include_top=False)"
      ],
      "metadata": {
        "colab": {
          "base_uri": "https://localhost:8080/"
        },
        "id": "1J7Y2opdiOBP",
        "outputId": "8c40ce83-3ad1-4a9d-e763-cae5db078977"
      },
      "execution_count": 3,
      "outputs": [
        {
          "output_type": "stream",
          "name": "stdout",
          "text": [
            "Downloading data from https://storage.googleapis.com/tensorflow/keras-applications/vgg19/vgg19_weights_tf_dim_ordering_tf_kernels_notop.h5\n",
            "80134624/80134624 [==============================] - 1s 0us/step\n"
          ]
        }
      ]
    },
    {
      "cell_type": "code",
      "source": [
        "# don't train existing weights\n",
        "for layer in mobilnet.layers:\n",
        "    layer.trainable = False"
      ],
      "metadata": {
        "id": "m4umhjVdiORB"
      },
      "execution_count": 4,
      "outputs": []
    },
    {
      "cell_type": "code",
      "source": [
        "  # useful for getting number of output classes\n",
        "folders = glob('/content/drive/MyDrive/Colab Notebooks/Dataset/Train')"
      ],
      "metadata": {
        "id": "5Uxj8E_miOfE"
      },
      "execution_count": 5,
      "outputs": []
    },
    {
      "cell_type": "code",
      "source": [
        "folders"
      ],
      "metadata": {
        "colab": {
          "base_uri": "https://localhost:8080/"
        },
        "id": "CtmSkRdRiegc",
        "outputId": "499ac80b-d531-4c2f-d0f4-ca8cf9fc86c5"
      },
      "execution_count": 6,
      "outputs": [
        {
          "output_type": "execute_result",
          "data": {
            "text/plain": [
              "['/content/drive/MyDrive/Colab Notebooks/Dataset/Train']"
            ]
          },
          "metadata": {},
          "execution_count": 6
        }
      ]
    },
    {
      "cell_type": "code",
      "source": [
        "# our layers - you can add more if you want\n",
        "x = Flatten()(mobilnet.output)"
      ],
      "metadata": {
        "id": "neyXpEn7iejv"
      },
      "execution_count": 7,
      "outputs": []
    },
    {
      "cell_type": "code",
      "source": [
        "prediction = Dense(len(folders), activation='softmax')(x)\n",
        "\n",
        "# create a model object\n",
        "model = Model(inputs=mobilnet.input, outputs=prediction)"
      ],
      "metadata": {
        "id": "zcBaQVZRiq2I"
      },
      "execution_count": 8,
      "outputs": []
    },
    {
      "cell_type": "code",
      "source": [
        "# view the structure of the model\n",
        "model.summary()"
      ],
      "metadata": {
        "colab": {
          "base_uri": "https://localhost:8080/"
        },
        "id": "Rmk05ZTfirCW",
        "outputId": "a198014d-191d-4d56-8596-c5282b2d1a95"
      },
      "execution_count": 9,
      "outputs": [
        {
          "output_type": "stream",
          "name": "stdout",
          "text": [
            "Model: \"model\"\n",
            "_________________________________________________________________\n",
            " Layer (type)                Output Shape              Param #   \n",
            "=================================================================\n",
            " input_1 (InputLayer)        [(None, 224, 224, 3)]     0         \n",
            "                                                                 \n",
            " block1_conv1 (Conv2D)       (None, 224, 224, 64)      1792      \n",
            "                                                                 \n",
            " block1_conv2 (Conv2D)       (None, 224, 224, 64)      36928     \n",
            "                                                                 \n",
            " block1_pool (MaxPooling2D)  (None, 112, 112, 64)      0         \n",
            "                                                                 \n",
            " block2_conv1 (Conv2D)       (None, 112, 112, 128)     73856     \n",
            "                                                                 \n",
            " block2_conv2 (Conv2D)       (None, 112, 112, 128)     147584    \n",
            "                                                                 \n",
            " block2_pool (MaxPooling2D)  (None, 56, 56, 128)       0         \n",
            "                                                                 \n",
            " block3_conv1 (Conv2D)       (None, 56, 56, 256)       295168    \n",
            "                                                                 \n",
            " block3_conv2 (Conv2D)       (None, 56, 56, 256)       590080    \n",
            "                                                                 \n",
            " block3_conv3 (Conv2D)       (None, 56, 56, 256)       590080    \n",
            "                                                                 \n",
            " block3_conv4 (Conv2D)       (None, 56, 56, 256)       590080    \n",
            "                                                                 \n",
            " block3_pool (MaxPooling2D)  (None, 28, 28, 256)       0         \n",
            "                                                                 \n",
            " block4_conv1 (Conv2D)       (None, 28, 28, 512)       1180160   \n",
            "                                                                 \n",
            " block4_conv2 (Conv2D)       (None, 28, 28, 512)       2359808   \n",
            "                                                                 \n",
            " block4_conv3 (Conv2D)       (None, 28, 28, 512)       2359808   \n",
            "                                                                 \n",
            " block4_conv4 (Conv2D)       (None, 28, 28, 512)       2359808   \n",
            "                                                                 \n",
            " block4_pool (MaxPooling2D)  (None, 14, 14, 512)       0         \n",
            "                                                                 \n",
            " block5_conv1 (Conv2D)       (None, 14, 14, 512)       2359808   \n",
            "                                                                 \n",
            " block5_conv2 (Conv2D)       (None, 14, 14, 512)       2359808   \n",
            "                                                                 \n",
            " block5_conv3 (Conv2D)       (None, 14, 14, 512)       2359808   \n",
            "                                                                 \n",
            " block5_conv4 (Conv2D)       (None, 14, 14, 512)       2359808   \n",
            "                                                                 \n",
            " block5_pool (MaxPooling2D)  (None, 7, 7, 512)         0         \n",
            "                                                                 \n",
            " flatten (Flatten)           (None, 25088)             0         \n",
            "                                                                 \n",
            " dense (Dense)               (None, 1)                 25089     \n",
            "                                                                 \n",
            "=================================================================\n",
            "Total params: 20,049,473\n",
            "Trainable params: 25,089\n",
            "Non-trainable params: 20,024,384\n",
            "_________________________________________________________________\n"
          ]
        }
      ]
    },
    {
      "cell_type": "code",
      "source": [
        "from tensorflow.keras.layers import MaxPooling2D\n"
      ],
      "metadata": {
        "id": "1xQF5-0FirVA"
      },
      "execution_count": 10,
      "outputs": []
    },
    {
      "cell_type": "code",
      "source": [
        "### Create Model from scratch using CNN\n",
        "model=Sequential()\n",
        "model.add(Conv2D(filters=16,kernel_size=2,padding=\"same\",activation=\"relu\",input_shape=(224,224,3)))\n",
        "model.add(MaxPooling2D(pool_size=2))\n",
        "model.add(Conv2D(filters=32,kernel_size=2,padding=\"same\",activation =\"relu\"))\n",
        "model.add(MaxPooling2D(pool_size=2))\n",
        "model.add(Conv2D(filters=64,kernel_size=2,padding=\"same\",activation=\"relu\"))\n",
        "model.add(MaxPooling2D(pool_size=2))\n",
        "model.add(Flatten())\n",
        "model.add(Dense(500,activation=\"relu\"))\n",
        "model.add(Dense(2,activation=\"softmax\"))\n",
        "model.summary()"
      ],
      "metadata": {
        "colab": {
          "base_uri": "https://localhost:8080/"
        },
        "id": "ppns3ZF2i4lU",
        "outputId": "48745e7b-c07c-442c-b77f-042db1061abc"
      },
      "execution_count": 11,
      "outputs": [
        {
          "output_type": "stream",
          "name": "stdout",
          "text": [
            "Model: \"sequential\"\n",
            "_________________________________________________________________\n",
            " Layer (type)                Output Shape              Param #   \n",
            "=================================================================\n",
            " conv2d (Conv2D)             (None, 224, 224, 16)      208       \n",
            "                                                                 \n",
            " max_pooling2d (MaxPooling2D  (None, 112, 112, 16)     0         \n",
            " )                                                               \n",
            "                                                                 \n",
            " conv2d_1 (Conv2D)           (None, 112, 112, 32)      2080      \n",
            "                                                                 \n",
            " max_pooling2d_1 (MaxPooling  (None, 56, 56, 32)       0         \n",
            " 2D)                                                             \n",
            "                                                                 \n",
            " conv2d_2 (Conv2D)           (None, 56, 56, 64)        8256      \n",
            "                                                                 \n",
            " max_pooling2d_2 (MaxPooling  (None, 28, 28, 64)       0         \n",
            " 2D)                                                             \n",
            "                                                                 \n",
            " flatten_1 (Flatten)         (None, 50176)             0         \n",
            "                                                                 \n",
            " dense_1 (Dense)             (None, 500)               25088500  \n",
            "                                                                 \n",
            " dense_2 (Dense)             (None, 2)                 1002      \n",
            "                                                                 \n",
            "=================================================================\n",
            "Total params: 25,100,046\n",
            "Trainable params: 25,100,046\n",
            "Non-trainable params: 0\n",
            "_________________________________________________________________\n"
          ]
        }
      ]
    },
    {
      "cell_type": "code",
      "source": [
        "# tell the model what cost and optimization method to use\n",
        "model.compile(\n",
        "  loss='categorical_crossentropy',\n",
        "  optimizer='adam',\n",
        "  metrics=['accuracy']\n",
        ")"
      ],
      "metadata": {
        "id": "zOj1DrNXjBwC"
      },
      "execution_count": 12,
      "outputs": []
    },
    {
      "cell_type": "code",
      "source": [
        "# Use the Image Data Generator to import the images from the dataset\n",
        "from tensorflow.keras.preprocessing.image import ImageDataGenerator\n",
        "\n",
        "train_datagen = ImageDataGenerator(rescale = 1./255,\n",
        "                                   shear_range = 0.2,\n",
        "                                   zoom_range = 0.2,\n",
        "                                   horizontal_flip = True)\n",
        "\n",
        "test_datagen = ImageDataGenerator(rescale = 1./255)"
      ],
      "metadata": {
        "id": "4NR22E04jHCa"
      },
      "execution_count": 13,
      "outputs": []
    },
    {
      "cell_type": "code",
      "source": [
        "# Make sure you provide the same target size as initialied for the image size\n",
        "training_set = train_datagen.flow_from_directory('/content/drive/MyDrive/Colab Notebooks/Dataset/Train',\n",
        "                                                 target_size = (224, 224),\n",
        "                                                 batch_size = 32,\n",
        "                                                 class_mode = 'categorical')"
      ],
      "metadata": {
        "colab": {
          "base_uri": "https://localhost:8080/"
        },
        "id": "8fkHgghejHFq",
        "outputId": "66aa5f18-2c8f-4598-9c81-8804d6553f20"
      },
      "execution_count": 14,
      "outputs": [
        {
          "output_type": "stream",
          "name": "stdout",
          "text": [
            "Found 416 images belonging to 2 classes.\n"
          ]
        }
      ]
    },
    {
      "cell_type": "code",
      "source": [
        "training_set"
      ],
      "metadata": {
        "colab": {
          "base_uri": "https://localhost:8080/"
        },
        "id": "CJzF-RjRjSmF",
        "outputId": "4c0feab6-4943-4bba-80ba-8ac5a40e15a5"
      },
      "execution_count": 15,
      "outputs": [
        {
          "output_type": "execute_result",
          "data": {
            "text/plain": [
              "<keras.preprocessing.image.DirectoryIterator at 0x7f990bd0ed70>"
            ]
          },
          "metadata": {},
          "execution_count": 15
        }
      ]
    },
    {
      "cell_type": "code",
      "source": [
        "test_set = test_datagen.flow_from_directory('/content/drive/MyDrive/Colab Notebooks/Dataset/Test',\n",
        "                                            target_size = (224, 224),\n",
        "                                            batch_size = 32,\n",
        "                                            class_mode = 'categorical')"
      ],
      "metadata": {
        "colab": {
          "base_uri": "https://localhost:8080/"
        },
        "id": "mh6MluCKjSzT",
        "outputId": "9bb7174b-39e4-40a1-9a61-52340124a881"
      },
      "execution_count": 16,
      "outputs": [
        {
          "output_type": "stream",
          "name": "stdout",
          "text": [
            "Found 134 images belonging to 2 classes.\n"
          ]
        }
      ]
    },
    {
      "cell_type": "code",
      "source": [
        "# fit the model\n",
        "# Run the cell. It will take some time to execute\n",
        "r = model.fit_generator(\n",
        "  training_set,\n",
        "  validation_data=test_set,\n",
        "  epochs=3,\n",
        "  steps_per_epoch=len(training_set),\n",
        "  validation_steps=len(test_set)\n",
        ")"
      ],
      "metadata": {
        "colab": {
          "base_uri": "https://localhost:8080/"
        },
        "id": "zRkkp9rcjfA0",
        "outputId": "b35bb203-2f2e-4eda-9172-fa018e98f7d8"
      },
      "execution_count": 98,
      "outputs": [
        {
          "output_type": "stream",
          "name": "stderr",
          "text": [
            "<ipython-input-98-bd47de4ae9d9>:3: UserWarning: `Model.fit_generator` is deprecated and will be removed in a future version. Please use `Model.fit`, which supports generators.\n",
            "  r = model.fit_generator(\n"
          ]
        },
        {
          "output_type": "stream",
          "name": "stdout",
          "text": [
            "Epoch 1/3\n",
            "13/13 [==============================] - 33s 3s/step - loss: 0.0777 - accuracy: 0.9736 - val_loss: 0.4724 - val_accuracy: 0.7612\n",
            "Epoch 2/3\n",
            "13/13 [==============================] - 41s 3s/step - loss: 0.0724 - accuracy: 0.9736 - val_loss: 0.2680 - val_accuracy: 0.8582\n",
            "Epoch 3/3\n",
            "13/13 [==============================] - 33s 3s/step - loss: 0.0821 - accuracy: 0.9736 - val_loss: 0.2993 - val_accuracy: 0.8806\n"
          ]
        }
      ]
    },
    {
      "cell_type": "code",
      "source": [
        "# plot the loss\n",
        "plt.plot(r.history['loss'], label='train loss')\n",
        "plt.plot(r.history['val_loss'], label='val loss')\n",
        "plt.legend()\n",
        "plt.show()\n",
        "plt.savefig('LossVal_loss')\n",
        "\n",
        "# plot the accuracy\n",
        "plt.plot(r.history['accuracy'], label='train acc')\n",
        "plt.plot(r.history['val_accuracy'], label='val acc')\n",
        "plt.legend()\n",
        "plt.show()\n",
        "plt.savefig('AccVal_acc')"
      ],
      "metadata": {
        "colab": {
          "base_uri": "https://localhost:8080/",
          "height": 860
        },
        "id": "pbt1bQ6BjfRw",
        "outputId": "e0ce4737-49d2-4de4-f0b0-7b8810f5afc0"
      },
      "execution_count": 99,
      "outputs": [
        {
          "output_type": "display_data",
          "data": {
            "text/plain": [
              "<Figure size 640x480 with 1 Axes>"
            ],
            "image/png": "[encoded data removed]"
          },
          "metadata": {}
        },
        {
          "output_type": "display_data",
          "data": {
            "text/plain": [
              "<Figure size 640x480 with 1 Axes>"
            ],
            "image/png": "[encoded data removed]"
          },
          "metadata": {}
        },
        {
          "output_type": "display_data",
          "data": {
            "text/plain": [
              "<Figure size 640x480 with 0 Axes>"
            ]
          },
          "metadata": {}
        }
      ]
    },
    {
      "cell_type": "code",
      "source": [
        "# save it as a h5 file\n",
        "\n",
        "\n",
        "from tensorflow.keras.models import load_model\n",
        "\n",
        "model.save('model_vgg19.h5')"
      ],
      "metadata": {
        "id": "rHfEfidDj1se"
      },
      "execution_count": 100,
      "outputs": []
    },
    {
      "cell_type": "code",
      "source": [
        "y_pred = model.predict(test_set)"
      ],
      "metadata": {
        "colab": {
          "base_uri": "https://localhost:8080/"
        },
        "id": "BK27S8IMj17D",
        "outputId": "ede00f28-8da3-464f-8d64-6a5e37fa351a"
      },
      "execution_count": 101,
      "outputs": [
        {
          "output_type": "stream",
          "name": "stdout",
          "text": [
            "5/5 [==============================] - 3s 392ms/step\n"
          ]
        }
      ]
    },
    {
      "cell_type": "code",
      "source": [
        "y_pred"
      ],
      "metadata": {
        "colab": {
          "base_uri": "https://localhost:8080/"
        },
        "id": "0CtEcY60kI5t",
        "outputId": "d8c25931-bc96-4e58-ed90-f2c4babbfe89"
      },
      "execution_count": 102,
      "outputs": [
        {
          "output_type": "execute_result",
          "data": {
            "text/plain": [
              "array([[9.86405015e-01, 1.35948351e-02],\n",
              "       [9.98935640e-01, 1.06432568e-03],\n",
              "       [9.99943674e-01, 5.62573950e-05],\n",
              "       [3.23549360e-01, 6.76450670e-01],\n",
              "       [3.84250402e-01, 6.15749598e-01],\n",
              "       [8.35297182e-02, 9.16470230e-01],\n",
              "       [9.20325577e-01, 7.96743557e-02],\n",
              "       [2.42900271e-02, 9.75709915e-01],\n",
              "       [9.96670961e-01, 3.32895038e-03],\n",
              "       [9.98021841e-01, 1.97799969e-03],\n",
              "       [3.87080014e-01, 6.12919986e-01],\n",
              "       [9.68745530e-01, 3.12544405e-02],\n",
              "       [1.13076769e-01, 8.86923194e-01],\n",
              "       [2.19075039e-01, 7.80924916e-01],\n",
              "       [9.95307922e-01, 4.69199894e-03],\n",
              "       [9.58433971e-02, 9.04156625e-01],\n",
              "       [7.37626076e-01, 2.62373954e-01],\n",
              "       [1.12145588e-01, 8.87854338e-01],\n",
              "       [9.99996960e-01, 3.02164767e-06],\n",
              "       [1.89701557e-01, 8.10298383e-01],\n",
              "       [9.92936969e-01, 7.06304330e-03],\n",
              "       [9.96461630e-01, 3.53835849e-03],\n",
              "       [9.96427655e-01, 3.57231288e-03],\n",
              "       [9.97581840e-01, 2.41818046e-03],\n",
              "       [9.98148918e-01, 1.85111223e-03],\n",
              "       [9.99993026e-01, 6.96667303e-06],\n",
              "       [8.23730946e-01, 1.76269010e-01],\n",
              "       [9.99072433e-01, 9.27574118e-04],\n",
              "       [2.54635364e-01, 7.45364726e-01],\n",
              "       [9.97366786e-01, 2.63327151e-03],\n",
              "       [9.99586761e-01, 4.13217407e-04],\n",
              "       [6.16456389e-01, 3.83543640e-01],\n",
              "       [9.99999940e-01, 2.30061992e-09],\n",
              "       [9.93289769e-01, 6.71024527e-03],\n",
              "       [2.00836122e-01, 7.99163878e-01],\n",
              "       [2.56484181e-01, 7.43515730e-01],\n",
              "       [9.95523393e-01, 4.47656214e-03],\n",
              "       [9.99957621e-01, 4.23186211e-05],\n",
              "       [8.70806575e-02, 9.12919402e-01],\n",
              "       [9.99642491e-01, 3.57547950e-04],\n",
              "       [9.99316275e-01, 6.83711783e-04],\n",
              "       [5.88892579e-01, 4.11107391e-01],\n",
              "       [9.96783853e-01, 3.21616651e-03],\n",
              "       [1.00791223e-01, 8.99208784e-01],\n",
              "       [8.24505150e-01, 1.75494820e-01],\n",
              "       [9.99622405e-01, 3.77690536e-04],\n",
              "       [9.99263406e-01, 7.36695016e-04],\n",
              "       [9.99791861e-01, 2.08215381e-04],\n",
              "       [3.81122790e-02, 9.61887598e-01],\n",
              "       [4.42538172e-01, 5.57461739e-01],\n",
              "       [9.95026648e-01, 4.97330911e-03],\n",
              "       [2.09477037e-01, 7.90522993e-01],\n",
              "       [7.25193322e-02, 9.27480698e-01],\n",
              "       [9.99951184e-01, 4.87764046e-05],\n",
              "       [1.33026183e-01, 8.66973817e-01],\n",
              "       [9.91786897e-01, 8.21298175e-03],\n",
              "       [5.34614742e-01, 4.65385258e-01],\n",
              "       [9.95487094e-01, 4.51300526e-03],\n",
              "       [9.08258855e-01, 9.17411447e-02],\n",
              "       [2.99374133e-01, 7.00625896e-01],\n",
              "       [9.99984920e-01, 1.50102251e-05],\n",
              "       [1.19806491e-01, 8.80193412e-01],\n",
              "       [9.99935567e-01, 6.44075626e-05],\n",
              "       [9.99371469e-01, 6.28592330e-04],\n",
              "       [1.45825922e-01, 8.54174137e-01],\n",
              "       [9.93448257e-01, 6.55177329e-03],\n",
              "       [9.97908115e-01, 2.09175493e-03],\n",
              "       [9.97621477e-01, 2.37854593e-03],\n",
              "       [6.73038185e-01, 3.26961815e-01],\n",
              "       [2.48093396e-01, 7.51906574e-01],\n",
              "       [1.71170458e-01, 8.28829587e-01],\n",
              "       [9.99803782e-01, 1.96267792e-04],\n",
              "       [9.99980152e-01, 1.98290563e-05],\n",
              "       [9.99808311e-01, 1.91648272e-04],\n",
              "       [9.64001417e-01, 3.59985419e-02],\n",
              "       [1.62937731e-01, 8.37062299e-01],\n",
              "       [9.93273318e-01, 6.72657182e-03],\n",
              "       [4.00004745e-01, 5.99995255e-01],\n",
              "       [9.99774694e-01, 2.25401964e-04],\n",
              "       [4.34325524e-02, 9.56567407e-01],\n",
              "       [4.50505763e-01, 5.49494147e-01],\n",
              "       [9.99997079e-01, 2.84861198e-06],\n",
              "       [9.87815261e-01, 1.21848211e-02],\n",
              "       [9.99999940e-01, 2.50725645e-08],\n",
              "       [9.99999940e-01, 1.62652842e-08],\n",
              "       [2.38676891e-01, 7.61323035e-01],\n",
              "       [9.72927272e-01, 2.70727314e-02],\n",
              "       [9.97699499e-01, 2.30045384e-03],\n",
              "       [2.38757059e-01, 7.61242986e-01],\n",
              "       [1.21077880e-01, 8.78922164e-01],\n",
              "       [7.66268075e-01, 2.33731881e-01],\n",
              "       [4.02200013e-01, 5.97799957e-01],\n",
              "       [2.43424818e-01, 7.56575227e-01],\n",
              "       [1.83906898e-01, 8.16093147e-01],\n",
              "       [1.42786831e-01, 8.57213199e-01],\n",
              "       [6.63685143e-01, 3.36314887e-01],\n",
              "       [9.91309643e-01, 8.69017746e-03],\n",
              "       [2.32404083e-01, 7.67595947e-01],\n",
              "       [3.05854287e-02, 9.69414592e-01],\n",
              "       [1.05700172e-01, 8.94299865e-01],\n",
              "       [9.99999940e-01, 4.39498482e-09],\n",
              "       [9.53122079e-01, 4.68778498e-02],\n",
              "       [2.79583097e-01, 7.20416903e-01],\n",
              "       [9.99978364e-01, 2.16014760e-05],\n",
              "       [2.16381744e-01, 7.83618271e-01],\n",
              "       [9.21703875e-01, 7.82961175e-02],\n",
              "       [9.99030173e-01, 9.69783345e-04],\n",
              "       [9.99943197e-01, 5.66855197e-05],\n",
              "       [1.32204160e-01, 8.67795706e-01],\n",
              "       [5.25542423e-02, 9.47445750e-01],\n",
              "       [1.90400138e-01, 8.09599817e-01],\n",
              "       [9.99986112e-01, 1.37699708e-05],\n",
              "       [9.97401714e-01, 2.59822258e-03],\n",
              "       [7.37172306e-01, 2.62827665e-01],\n",
              "       [1.03730783e-01, 8.96269202e-01],\n",
              "       [1.36605620e-01, 8.63394260e-01],\n",
              "       [1.05164759e-01, 8.94835293e-01],\n",
              "       [9.97871220e-01, 2.12872145e-03],\n",
              "       [9.92518723e-01, 7.48118572e-03],\n",
              "       [2.26737946e-01, 7.73262084e-01],\n",
              "       [9.73499894e-01, 2.65001170e-02],\n",
              "       [8.57624352e-01, 1.42375618e-01],\n",
              "       [8.09933603e-01, 1.90066412e-01],\n",
              "       [9.99960959e-01, 3.89391644e-05],\n",
              "       [9.90536332e-01, 9.46356077e-03],\n",
              "       [9.98695731e-01, 1.30419724e-03],\n",
              "       [9.99999940e-01, 1.63451492e-08],\n",
              "       [3.83284181e-01, 6.16715789e-01],\n",
              "       [9.91793215e-01, 8.20675120e-03],\n",
              "       [1.20923430e-01, 8.79076540e-01],\n",
              "       [9.98724997e-01, 1.27499830e-03],\n",
              "       [9.97359216e-01, 2.64076353e-03],\n",
              "       [9.86095488e-01, 1.39044635e-02],\n",
              "       [1.70364410e-01, 8.29635561e-01]], dtype=float32)"
            ]
          },
          "metadata": {},
          "execution_count": 102
        }
      ]
    },
    {
      "cell_type": "code",
      "source": [
        "import numpy as np\n",
        "y_pred = np.argmax(y_pred, axis=1)"
      ],
      "metadata": {
        "id": "TApiEAn1kI9H"
      },
      "execution_count": 103,
      "outputs": []
    },
    {
      "cell_type": "code",
      "source": [
        "y_pred"
      ],
      "metadata": {
        "colab": {
          "base_uri": "https://localhost:8080/"
        },
        "id": "RM2KGHaikJAy",
        "outputId": "448387fc-c536-4d90-89c9-8272cbb48625"
      },
      "execution_count": 104,
      "outputs": [
        {
          "output_type": "execute_result",
          "data": {
            "text/plain": [
              "array([0, 0, 0, 1, 1, 1, 0, 1, 0, 0, 1, 0, 1, 1, 0, 1, 0, 1, 0, 1, 0, 0,\n",
              "       0, 0, 0, 0, 0, 0, 1, 0, 0, 0, 0, 0, 1, 1, 0, 0, 1, 0, 0, 0, 0, 1,\n",
              "       0, 0, 0, 0, 1, 1, 0, 1, 1, 0, 1, 0, 0, 0, 0, 1, 0, 1, 0, 0, 1, 0,\n",
              "       0, 0, 0, 1, 1, 0, 0, 0, 0, 1, 0, 1, 0, 1, 1, 0, 0, 0, 0, 1, 0, 0,\n",
              "       1, 1, 0, 1, 1, 1, 1, 0, 0, 1, 1, 1, 0, 0, 1, 0, 1, 0, 0, 0, 1, 1,\n",
              "       1, 0, 0, 0, 1, 1, 1, 0, 0, 1, 0, 0, 0, 0, 0, 0, 0, 1, 0, 1, 0, 0,\n",
              "       0, 1])"
            ]
          },
          "metadata": {},
          "execution_count": 104
        }
      ]
    },
    {
      "cell_type": "code",
      "source": [
        "from tensorflow.keras.models import load_model\n",
        "from tensorflow.keras.preprocessing import image"
      ],
      "metadata": {
        "id": "tcn8N4CnkRHA"
      },
      "execution_count": 105,
      "outputs": []
    },
    {
      "cell_type": "code",
      "source": [
        "model=load_model('/content/model_vgg19.h5')\n"
      ],
      "metadata": {
        "id": "AliGE7G-kRc-"
      },
      "execution_count": 106,
      "outputs": []
    },
    {
      "cell_type": "code",
      "source": [
        "img=image.load_img('/content/drive/MyDrive/Colab Notebooks/Dataset/Test/Uninfected/2.png',target_size=(224,224))"
      ],
      "metadata": {
        "id": "A_wsEpbKmYFN"
      },
      "execution_count": 124,
      "outputs": []
    },
    {
      "cell_type": "code",
      "source": [
        "x=image.img_to_array(img)\n",
        "x"
      ],
      "metadata": {
        "colab": {
          "base_uri": "https://localhost:8080/"
        },
        "id": "43-zwlQJmYJX",
        "outputId": "9af2f889-51a9-4096-8b9f-d9bf7621cb70"
      },
      "execution_count": 125,
      "outputs": [
        {
          "output_type": "execute_result",
          "data": {
            "text/plain": [
              "array([[[0., 0., 0.],\n",
              "        [0., 0., 0.],\n",
              "        [0., 0., 0.],\n",
              "        ...,\n",
              "        [0., 0., 0.],\n",
              "        [0., 0., 0.],\n",
              "        [0., 0., 0.]],\n",
              "\n",
              "       [[0., 0., 0.],\n",
              "        [0., 0., 0.],\n",
              "        [0., 0., 0.],\n",
              "        ...,\n",
              "        [0., 0., 0.],\n",
              "        [0., 0., 0.],\n",
              "        [0., 0., 0.]],\n",
              "\n",
              "       [[0., 0., 0.],\n",
              "        [0., 0., 0.],\n",
              "        [0., 0., 0.],\n",
              "        ...,\n",
              "        [0., 0., 0.],\n",
              "        [0., 0., 0.],\n",
              "        [0., 0., 0.]],\n",
              "\n",
              "       ...,\n",
              "\n",
              "       [[0., 0., 0.],\n",
              "        [0., 0., 0.],\n",
              "        [0., 0., 0.],\n",
              "        ...,\n",
              "        [0., 0., 0.],\n",
              "        [0., 0., 0.],\n",
              "        [0., 0., 0.]],\n",
              "\n",
              "       [[0., 0., 0.],\n",
              "        [0., 0., 0.],\n",
              "        [0., 0., 0.],\n",
              "        ...,\n",
              "        [0., 0., 0.],\n",
              "        [0., 0., 0.],\n",
              "        [0., 0., 0.]],\n",
              "\n",
              "       [[0., 0., 0.],\n",
              "        [0., 0., 0.],\n",
              "        [0., 0., 0.],\n",
              "        ...,\n",
              "        [0., 0., 0.],\n",
              "        [0., 0., 0.],\n",
              "        [0., 0., 0.]]], dtype=float32)"
            ]
          },
          "metadata": {},
          "execution_count": 125
        }
      ]
    },
    {
      "cell_type": "code",
      "source": [
        "x.shape"
      ],
      "metadata": {
        "colab": {
          "base_uri": "https://localhost:8080/"
        },
        "id": "9Ncg7Vhlm325",
        "outputId": "b7c3a49c-451f-45ed-98cf-e0fac1be1d11"
      },
      "execution_count": 126,
      "outputs": [
        {
          "output_type": "execute_result",
          "data": {
            "text/plain": [
              "(224, 224, 3)"
            ]
          },
          "metadata": {},
          "execution_count": 126
        }
      ]
    },
    {
      "cell_type": "code",
      "source": [
        "x=x/255"
      ],
      "metadata": {
        "id": "j-fVH_9em4hk"
      },
      "execution_count": 127,
      "outputs": []
    },
    {
      "cell_type": "code",
      "source": [
        "x=np.expand_dims(x,axis=0)\n",
        "img_data=preprocess_input(x)\n",
        "img_data.shape"
      ],
      "metadata": {
        "colab": {
          "base_uri": "https://localhost:8080/"
        },
        "id": "QiDhdd2tm_pU",
        "outputId": "4de0cde7-ec2b-4e57-a1c3-58ef13e665ca"
      },
      "execution_count": 128,
      "outputs": [
        {
          "output_type": "execute_result",
          "data": {
            "text/plain": [
              "(1, 224, 224, 3)"
            ]
          },
          "metadata": {},
          "execution_count": 128
        }
      ]
    },
    {
      "cell_type": "code",
      "source": [
        "model.predict(img_data)"
      ],
      "metadata": {
        "colab": {
          "base_uri": "https://localhost:8080/"
        },
        "id": "cSi_zhbim_6t",
        "outputId": "b47d05da-4b55-4523-9d7d-2b03ab3d97de"
      },
      "execution_count": 129,
      "outputs": [
        {
          "output_type": "stream",
          "name": "stdout",
          "text": [
            "1/1 [==============================] - 0s 81ms/step\n"
          ]
        },
        {
          "output_type": "execute_result",
          "data": {
            "text/plain": [
              "array([[0., 1.]], dtype=float32)"
            ]
          },
          "metadata": {},
          "execution_count": 129
        }
      ]
    },
    {
      "cell_type": "code",
      "source": [
        "a=np.argmax(model.predict(img_data), axis=1)\n"
      ],
      "metadata": {
        "colab": {
          "base_uri": "https://localhost:8080/"
        },
        "id": "U-HKQUhDnFre",
        "outputId": "e588a794-4cd9-4b78-8ce7-03db7d7cc8d8"
      },
      "execution_count": 130,
      "outputs": [
        {
          "output_type": "stream",
          "name": "stdout",
          "text": [
            "1/1 [==============================] - 0s 61ms/step\n"
          ]
        }
      ]
    },
    {
      "cell_type": "code",
      "source": [
        "if(a==1):\n",
        "    print(\"Uninfected\")\n",
        "else:\n",
        "    print(\"Infected\")"
      ],
      "metadata": {
        "colab": {
          "base_uri": "https://localhost:8080/"
        },
        "id": "ur5kYMtInFv_",
        "outputId": "d58180df-7e1b-40bd-87fb-83f6016bca0e"
      },
      "execution_count": 131,
      "outputs": [
        {
          "output_type": "stream",
          "name": "stdout",
          "text": [
            "Uninfected\n"
          ]
        }
      ]
    },
    {
      "cell_type": "code",
      "source": [],
      "metadata": {
        "id": "OFr5NQevnGXF"
      },
      "execution_count": null,
      "outputs": []
    },
    {
      "cell_type": "code",
      "source": [],
      "metadata": {
        "id": "FyVdH86xnACt"
      },
      "execution_count": null,
      "outputs": []
    }
  ]
}